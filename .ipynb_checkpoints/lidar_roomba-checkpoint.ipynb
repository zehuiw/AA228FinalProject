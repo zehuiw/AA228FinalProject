{
 "cells": [
  {
   "cell_type": "markdown",
   "metadata": {},
   "source": [
    "# AA228/CS238 Optional Final Project: Escape Roomba\n",
    "\n",
    "This notebook demonstrates how to interact with the Roomba environment. We show how to:\n",
    "1. Import the necessary packages\n",
    "2. Define the sensor and construct the POMDP\n",
    "3. Set up a particle filter\n",
    "4. Define a policy\n",
    "5. Simulate and render the environment\n",
    "6. Evaluate the policy\n"
   ]
  },
  {
   "cell_type": "code",
   "execution_count": 1,
   "metadata": {},
   "outputs": [
    {
     "data": {
      "text/plain": [
       "\"/Users/little-orange/Documents/18Aut/238/AA228FinalProject/Project.toml\""
      ]
     },
     "execution_count": 1,
     "metadata": {},
     "output_type": "execute_result"
    }
   ],
   "source": [
    "# activate project environment\n",
    "# include these lines of code in any future scripts/notebooks\n",
    "#---\n",
    "import Pkg\n",
    "if !haskey(Pkg.installed(), \"AA228FinalProject\")\n",
    "    jenv = joinpath(dirname(@__FILE__()), \".\") # this assumes the notebook is in the same dir\n",
    "    # as the Project.toml file, which should be in top level dir of the project. \n",
    "    # Change accordingly if this is not the case.\n",
    "    Pkg.activate(jenv)\n",
    "end\n",
    "#---"
   ]
  },
  {
   "cell_type": "code",
   "execution_count": null,
   "metadata": {},
   "outputs": [],
   "source": []
  },
  {
   "cell_type": "code",
   "execution_count": 2,
   "metadata": {},
   "outputs": [
    {
     "name": "stderr",
     "output_type": "stream",
     "text": [
      "┌ Info: Precompiling AA228FinalProject [fe2df5ea-4d44-4e5a-a895-9dbc87b19b37]\n",
      "└ @ Base loading.jl:1189\n",
      "ERROR: LoadError: ArgumentError: Package POMDPs [a93abf59-7444-517b-a68a-c42f96afdd7d] is required but does not seem to be installed:\n",
      " - Run `Pkg.instantiate()` to install all recorded dependencies.\n",
      "\n",
      "Stacktrace:\n",
      " [1] _require(::Base.PkgId) at ./loading.jl:926\n",
      " [2] require(::Base.PkgId) at ./loading.jl:855\n",
      " [3] macro expansion at ./logging.jl:311 [inlined]\n",
      " [4] require(::Module, ::Symbol) at ./loading.jl:837\n",
      " [5] include at ./boot.jl:317 [inlined]\n",
      " [6] include_relative(::Module, ::String) at ./loading.jl:1041\n",
      " [7] include(::Module, ::String) at ./sysimg.jl:29\n",
      " [8] top-level scope at none:2\n",
      " [9] eval at ./boot.jl:319 [inlined]\n",
      " [10] eval(::Expr) at ./client.jl:389\n",
      " [11] top-level scope at ./none:3\n",
      "in expression starting at /Users/little-orange/Documents/18Aut/238/AA228FinalProject/src/AA228FinalProject.jl:3\n"
     ]
    },
    {
     "ename": "ErrorException",
     "evalue": "Failed to precompile AA228FinalProject [fe2df5ea-4d44-4e5a-a895-9dbc87b19b37] to /Users/little-orange/.julia/compiled/v1.0/AA228FinalProject/uFJfC.ji.",
     "output_type": "error",
     "traceback": [
      "Failed to precompile AA228FinalProject [fe2df5ea-4d44-4e5a-a895-9dbc87b19b37] to /Users/little-orange/.julia/compiled/v1.0/AA228FinalProject/uFJfC.ji.",
      "",
      "Stacktrace:",
      " [1] error(::String) at ./error.jl:33",
      " [2] macro expansion at ./logging.jl:313 [inlined]",
      " [3] compilecache(::Base.PkgId, ::String) at ./loading.jl:1187",
      " [4] macro expansion at ./logging.jl:311 [inlined]",
      " [5] _require(::Base.PkgId) at ./loading.jl:944",
      " [6] require(::Base.PkgId) at ./loading.jl:855",
      " [7] macro expansion at ./logging.jl:311 [inlined]",
      " [8] require(::Module, ::Symbol) at ./loading.jl:837",
      " [9] top-level scope at In[2]:1"
     ]
    }
   ],
   "source": [
    "# import necessary packages\n",
    "using AA228FinalProject\n",
    "using POMDPs\n",
    "using POMDPPolicies\n",
    "using BeliefUpdaters\n",
    "using ParticleFilters\n",
    "using POMDPSimulators\n",
    "using Cairo\n",
    "using Gtk\n",
    "using Random\n",
    "using Printf"
   ]
  },
  {
   "cell_type": "markdown",
   "metadata": {},
   "source": [
    "## Define sensor and construct POMDP\n",
    "In the following cell, we first instantiate a sensor. There are two sensors implemented: a lidar sensor and a bump sensor. The lidar sensor receives a single noisy measurement of the distance to the nearest wall in the direction the Roomba is facing. The bump sensor indicates when contact has been made between any part of the Roomba and any wall.\n",
    "\n",
    "Next, we instantiate the MDP, which defines the underlying simulation environment, assuming full observability. The MDP takes many arguments to specify details of the problem. Feel free to examine the underlying source code (```src/roomba_env.jl```) to gain an understanding for these arguments. One argument we must specify here is the ```config```. This argument, which can take values 1,2, or 3, specifies the room configuration, with each configuration corresponding to a different location for the goal and stairs.\n",
    "\n",
    "Finally, we instantiate the POMDP. The POMDP takes as an argument the underlying MDP as well as the sensor, which it uses to define the observation model. "
   ]
  },
  {
   "cell_type": "code",
   "execution_count": null,
   "metadata": {},
   "outputs": [],
   "source": [
    "sensor = Lidar() # or Bumper() for the bumper version of the environment\n",
    "config = 3 # 1,2, or 3\n",
    "m = RoombaPOMDP(sensor=sensor, mdp=RoombaMDP(config=config));"
   ]
  },
  {
   "cell_type": "markdown",
   "metadata": {},
   "source": [
    "### Setting up a Particle Filter\n",
    "\n",
    "To solve a POMDP, we must specify a method for representing the belief state and updating it given an observation and an action. Here, we demonstrate how to instantiate a particle filter, which has been implemented in the package ```ParticleFilters.jl```.\n",
    "\n",
    "First, we instantiate a resampler, which is responsible for updating the belief state given an observation. We have implemented a resampler for each of the lidar and bumper environments, the source code for which can be found in ```src/filtering.jl```. The first argument for both resamplers is the number of particles that represent the belief state. The lidar resampler takes a low-variance resampler as an additional argument, implemented for us in ```ParticleFilters.jl```, which is responsible for efficiently resampling a weighted set of particles. \n",
    "\n",
    "Next, we instantiate a ```SimpleParticleFilter```, which enables us to perform our belief updates, and is implemented for us in ```ParticleFilters.jl```, .\n",
    "\n",
    "Finally, we pass this particle filter into a custom struct called a ```RoombaParticleFilter```, which takes two additional arguments. These arguments specify the noise in the velocity and turn-rate, used when propegating particles according to the action taken. These can be tuned depending on the type of sensor used."
   ]
  },
  {
   "cell_type": "code",
   "execution_count": null,
   "metadata": {},
   "outputs": [],
   "source": [
    "num_particles = 2000\n",
    "resampler = LidarResampler(num_particles, LowVarianceResampler(num_particles))\n",
    "# for the bumper environment\n",
    "# resampler = BumperResampler(num_particles)\n",
    "\n",
    "spf = SimpleParticleFilter(m, resampler)\n",
    "\n",
    "v_noise_coefficient = 2.0\n",
    "om_noise_coefficient = 0.5\n",
    "\n",
    "belief_updater = RoombaParticleFilter(spf, v_noise_coefficient, om_noise_coefficient);"
   ]
  },
  {
   "cell_type": "markdown",
   "metadata": {},
   "source": [
    "### Define a policy\n",
    "\n",
    "Here we demonstrate how to define a naive policy that attempts navigate the Roomba to the goal. The heuristic policy we define here first spins around for 25 time-steps in order to perform localization, then follows a simple proprtional control law that navigates the robot in the direction of the goal state (note that this policy fails if there is a wall in the way).\n",
    "\n",
    "First we create a struct that subtypes the Policy abstract type, defined in the package ```POMDPPolicies.jl```. Here, we can also define certain parameters, such as a variable tracking the current time-step.\n",
    "\n",
    "Next, we define a function that can take in our policy and the belief state and return the desired action. We do this by defining a new ```POMDPs.action``` function that will work with our policy. "
   ]
  },
  {
   "cell_type": "code",
   "execution_count": null,
   "metadata": {},
   "outputs": [],
   "source": [
    "# Define the policy to test\n",
    "mutable struct ToEnd <: Policy\n",
    "    ts::Int64 # to track the current time-step.\n",
    "end\n",
    "\n",
    "# extract goal for heuristic controller\n",
    "goal_xy = get_goal_xy(m)\n",
    "\n",
    "# define a new function that takes in the policy struct and current belief,\n",
    "# and returns the desired action\n",
    "function POMDPs.action(p::ToEnd, b::ParticleCollection{RoombaState})\n",
    "    \n",
    "    # spin around to localize for the first 25 time-steps\n",
    "    if p.ts < 25\n",
    "        p.ts += 1\n",
    "        return RoombaAct(0.,1.0) # all actions are of type RoombaAct(v,om)\n",
    "    end\n",
    "    p.ts += 1\n",
    "    \n",
    "    # after 25 time-steps, we follow a proportional controller to navigate\n",
    "    # directly to the goal, using the mean belief state\n",
    "    \n",
    "    # compute mean belief of a subset of particles\n",
    "    s = mean(b)\n",
    "    \n",
    "    # compute the difference between our current heading and one that would\n",
    "    # point to the goal\n",
    "    goal_x, goal_y = goal_xy\n",
    "    x,y,th = s[1:3]\n",
    "    ang_to_goal = atan(goal_y - y, goal_x - x)\n",
    "    del_angle = wrap_to_pi(ang_to_goal - th)\n",
    "    \n",
    "    # apply proportional control to compute the turn-rate\n",
    "    Kprop = 1.0\n",
    "    om = Kprop * del_angle\n",
    "    \n",
    "    # always travel at some fixed velocity\n",
    "    v = 5.0\n",
    "    \n",
    "    return RoombaAct(v, om)\n",
    "end"
   ]
  },
  {
   "cell_type": "markdown",
   "metadata": {},
   "source": [
    "### Simulation and rendering\n",
    "\n",
    "Here, we will demonstrate how to seed the environment, run a simulation, and render the simulation. To render the simulation, we use the ```Gtk``` package. \n",
    "\n",
    "The simulation is carried out using the ```stepthrough``` function defined in the package ```POMDPSimulators.jl```. During a simulation, a window will open that renders the scene. It may be hidden behind other windows on your desktop."
   ]
  },
  {
   "cell_type": "code",
   "execution_count": null,
   "metadata": {},
   "outputs": [],
   "source": [
    "# first seed the environment\n",
    "Random.seed!(2)\n",
    "\n",
    "# reset the policy\n",
    "p = ToEnd(0) # here, the argument sets the time-steps elapsed to 0\n",
    "\n",
    "# run the simulation\n",
    "c = @GtkCanvas()\n",
    "win = GtkWindow(c, \"Roomba Environment\", 600, 600)\n",
    "for (t, step) in enumerate(stepthrough(m, p, belief_updater, max_steps=100))\n",
    "    @guarded draw(c) do widget\n",
    "        \n",
    "        # the following lines render the room, the particles, and the roomba\n",
    "        ctx = getgc(c)\n",
    "        set_source_rgb(ctx,1,1,1)\n",
    "        paint(ctx)\n",
    "        render(ctx, m, step)\n",
    "        \n",
    "        # render some information that can help with debugging\n",
    "        # here, we render the time-step, the state, and the observation\n",
    "        move_to(ctx,300,400)\n",
    "        show_text(ctx, @sprintf(\"t=%d, state=%s, o=%.3f\",t,string(step.s),step.o))\n",
    "    end\n",
    "    show(c)\n",
    "    sleep(0.1) # to slow down the simulation\n",
    "end"
   ]
  },
  {
   "cell_type": "markdown",
   "metadata": {},
   "source": [
    "### Specifying initial states and beliefs\n",
    "If, for debugging purposes, you would like to hard-code a starting location or initial belief state for the roomba, you can do so by taking the following steps.\n",
    "\n",
    "First, we define the initial state using the following line of code:\n",
    "```\n",
    "is = RoombaState(x,y,th,0.)\n",
    "```\n",
    "Where ```x``` and ```y``` are the x,y coordinates of the starting location and ```th``` is the heading in radians. The last entry, ```0.```, respresents whether the state is terminal, and should remain unchanged.\n",
    "\n",
    "If you would like to initialize the Roomba's belief as perfectly localized, you can do so with the following line of code:\n",
    "```\n",
    "b0 = Deterministic(is)\n",
    "```\n",
    "If you would like to initialize the standard unlocalized belief, use these lines:\n",
    "```\n",
    "dist = initialstate_distribution(m)\n",
    "b0 = initialize_belief(belief_updater, dist)\n",
    "```\n",
    "Finally, we call the ```stepthrough``` function using the initial state and belief as follows:\n",
    "```\n",
    "stepthrough(m,planner,belief_updater,b0,is,max_steps=300)\n",
    "```\n",
    "\n",
    "### Discretizing the state space\n",
    "Certain POMDP solution techniques require discretizing the state space. Should we need to do so, we first define the state space by specifying the number of points to discretize the range of possible x, y, and $\\theta$ values, and then calling the DiscreteRoombaStateSpace constructor.\n",
    "```\n",
    "num_x_pts = ... # e.g. 50\n",
    "num_y_pts = ... # e.g. 50\n",
    "num_th_pts = ... # e.g. 20\n",
    "sspace = DiscreteRoombaStateSpace(num_x_pts,num_y_pts,num_th_pts)\n",
    "```\n",
    "\n",
    "Next, we pass in the state space as an argument when constructing the POMDP.\n",
    "```\n",
    "m = RoombaPOMDP(sensor=sensor, mdp=RoombaMDP(config=config, sspace=sspace))\n",
    "```\n",
    "\n",
    "### Discretizing the action space\n",
    "Certain POMDP solution techniques require discretizing the action space. Should we need to do so, we first define the action space as follows:\n",
    "```\n",
    "vlist = [...]\n",
    "omlist = [...]\n",
    "aspace = vec(collect(RoombaAct(v, om) for v in vlist, om in omlist))\n",
    "```\n",
    "Where ```vlist``` is an array of possible values for the velocity (e.g. ```[0,1,10]```) and ```omlist``` is an array of possible turn-rates (e.g. ```[-1,0,1]```).\n",
    "\n",
    "Next, we pass in the action space as an argument when constructing the POMDP.\n",
    "```\n",
    "m = RoombaPOMDP(sensor=sensor, mdp=RoombaMDP(config=config, aspace=aspace))\n",
    "```\n",
    "\n",
    "### Discretizing the Lidar observation space\n",
    "Certain POMDP solution techniques require discretizing the observation space. The Bumper sensor has a discrete observation space by default, while the Lidar sensor is continuous by default. The observations can take values in the range $[0,\\infty)$. Should we need to do discretize the Lidar observation space, we first define cut-points $x_{1:K}$ such that all observations between $-\\infty$ and $x_1$ are considered the discrete observation 1, all observations between $x_1$ and $x_2$ are considered discrete observation 2, and so on. All observations between $x_K$ and $\\infty$ are considered discrete observation $K+1$. We instantiate the discretized sensor as follows:\n",
    "```\n",
    "cut_points = [x_1, x_2, ..., x_K]\n",
    "sensor = DiscreteLidar(cut_points)\n",
    "```\n",
    "Next, we pass in the sensor as an argument when constructing the POMDP as usual.\n",
    "```\n",
    "m = RoombaPOMDP(sensor=sensor, mdp=RoombaMDP(config=config))\n",
    "```\n",
    "\n",
    "\n",
    "\n",
    "\n"
   ]
  },
  {
   "cell_type": "markdown",
   "metadata": {},
   "source": [
    "### Evaluation \n",
    "\n",
    "Here, we demonstate a simple evaluation of the policy's performance for a few random seeds. This is meant to serve only as an example, and we encourage you to develop your own evaluation metrics.\n",
    "\n",
    "We intialize the robot using five different random seeds, and simulate its performance for 100 time-steps. We then sum the rewards experienced during its interaction with the environment and track this total reward for the five trials.\n",
    "Finally, we report the mean and standard error for the total reward. The standard error is the standard deviation of a sample set divided by the square root of the number of samples, and represents the uncertainty in the estimate of the mean value."
   ]
  },
  {
   "cell_type": "code",
   "execution_count": null,
   "metadata": {},
   "outputs": [],
   "source": [
    "using Statistics\n",
    "\n",
    "total_rewards = []\n",
    "\n",
    "for exp = 1:5\n",
    "    println(string(exp))\n",
    "    \n",
    "    Random.seed!(exp)\n",
    "    \n",
    "    p = ToEnd(0)\n",
    "    traj_rewards = sum([step.r for step in stepthrough(m,p,belief_updater, max_steps=100)])\n",
    "    \n",
    "    push!(total_rewards, traj_rewards)\n",
    "end\n",
    "\n",
    "@printf(\"Mean Total Reward: %.3f, StdErr Total Reward: %.3f\", mean(total_rewards), std(total_rewards)/sqrt(5))"
   ]
  }
 ],
 "metadata": {
  "kernelspec": {
   "display_name": "Julia 1.0.1",
   "language": "julia",
   "name": "julia-1.0"
  },
  "language_info": {
   "file_extension": ".jl",
   "mimetype": "application/julia",
   "name": "julia",
   "version": "1.0.1"
  }
 },
 "nbformat": 4,
 "nbformat_minor": 1
}
